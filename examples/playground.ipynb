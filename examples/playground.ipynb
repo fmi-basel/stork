{
 "cells": [
  {
   "cell_type": "code",
   "execution_count": 176,
   "metadata": {},
   "outputs": [],
   "source": [
    "import torch\n",
    "import torch.nn.functional as F\n",
    "import numpy as np"
   ]
  },
  {
   "cell_type": "code",
   "execution_count": 177,
   "metadata": {},
   "outputs": [
    {
     "data": {
      "text/plain": [
       "<torch._C.Generator at 0x7f922df0c7b0>"
      ]
     },
     "execution_count": 177,
     "metadata": {},
     "output_type": "execute_result"
    }
   ],
   "source": [
    "torch.random.manual_seed(1325123)"
   ]
  },
  {
   "cell_type": "code",
   "execution_count": 178,
   "metadata": {},
   "outputs": [],
   "source": [
    "src = 3\n",
    "dst = 2\n",
    "time_step = 1e-3\n",
    "\n",
    "batch_size = 5"
   ]
  },
  {
   "cell_type": "code",
   "execution_count": 179,
   "metadata": {},
   "outputs": [
    {
     "data": {
      "text/plain": [
       "tensor([[0.0000, 0.0049, 0.0003],\n",
       "        [0.0000, 0.0034, 0.0016]])"
      ]
     },
     "execution_count": 179,
     "metadata": {},
     "output_type": "execute_result"
    }
   ],
   "source": [
    "delays = torch.rand(dst, src) / 200\n",
    "delays[0, 0] = 0\n",
    "delays[1, 0] = 0\n",
    "delays"
   ]
  },
  {
   "cell_type": "code",
   "execution_count": 180,
   "metadata": {},
   "outputs": [],
   "source": [
    "w = torch.rand(dst, src)"
   ]
  },
  {
   "cell_type": "code",
   "execution_count": 181,
   "metadata": {},
   "outputs": [
    {
     "data": {
      "text/plain": [
       "(tensor([[0., 0., 0.],\n",
       "         [0., 0., 0.],\n",
       "         [0., 1., 1.],\n",
       "         [0., 1., 1.],\n",
       "         [1., 1., 1.]]),\n",
       " torch.Size([5, 3]))"
      ]
     },
     "execution_count": 181,
     "metadata": {},
     "output_type": "execute_result"
    }
   ],
   "source": [
    "preact = (torch.rand(batch_size, src) > 0.5).float()\n",
    "preact, preact.shape"
   ]
  },
  {
   "cell_type": "code",
   "execution_count": 182,
   "metadata": {},
   "outputs": [
    {
     "data": {
      "text/plain": [
       "tensor([[0, 4, 0],\n",
       "        [0, 3, 1]])"
      ]
     },
     "execution_count": 182,
     "metadata": {},
     "output_type": "execute_result"
    }
   ],
   "source": [
    "int_delays = (delays / time_step).long()\n",
    "int_delays"
   ]
  },
  {
   "cell_type": "code",
   "execution_count": 183,
   "metadata": {},
   "outputs": [
    {
     "data": {
      "text/plain": [
       "(tensor([[[[1, 0, 0, 0, 0],\n",
       "           [0, 0, 0, 0, 1],\n",
       "           [1, 0, 0, 0, 0]],\n",
       " \n",
       "          [[1, 0, 0, 0, 0],\n",
       "           [0, 0, 0, 1, 0],\n",
       "           [0, 1, 0, 0, 0]]]]),\n",
       " torch.Size([1, 2, 3, 5]))"
      ]
     },
     "execution_count": 183,
     "metadata": {},
     "output_type": "execute_result"
    }
   ],
   "source": [
    "binary_delays = F.one_hot(int_delays).unsqueeze(0)\n",
    "binary_delays, binary_delays.shape"
   ]
  },
  {
   "cell_type": "code",
   "execution_count": 184,
   "metadata": {},
   "outputs": [
    {
     "data": {
      "text/plain": [
       "torch.Size([5, 2, 3, 5])"
      ]
     },
     "execution_count": 184,
     "metadata": {},
     "output_type": "execute_result"
    }
   ],
   "source": [
    "count = preact.unsqueeze(1).unsqueeze(-1) * binary_delays\n",
    "count.shape"
   ]
  },
  {
   "cell_type": "code",
   "execution_count": 185,
   "metadata": {},
   "outputs": [
    {
     "name": "stdout",
     "output_type": "stream",
     "text": [
      "tensor([[[0., 0., 0.],\n",
      "         [0., 0., 0.]],\n",
      "\n",
      "        [[0., 0., 0.],\n",
      "         [0., 0., 0.]],\n",
      "\n",
      "        [[0., 0., 1.],\n",
      "         [0., 0., 0.]],\n",
      "\n",
      "        [[0., 0., 1.],\n",
      "         [0., 0., 0.]],\n",
      "\n",
      "        [[1., 0., 1.],\n",
      "         [1., 0., 0.]]])\n"
     ]
    }
   ],
   "source": [
    "mask = count[:, :, :, 0].clone()\n",
    "count[:, :, :, 0] = 0\n",
    "# print(count)\n",
    "# print()\n",
    "# print(count[:, :, 0])\n",
    "# print(count[:, :, 1])\n",
    "# print(count[:, :, 2])\n",
    "# print(count[:, :, 3])\n",
    "# print()\n",
    "\n",
    "count = torch.roll(count, -1, -1)\n",
    "# print(count[:, :, 0])\n",
    "# print(count[:, :, 1])\n",
    "# print(count[:, :, 2])\n",
    "# print(count[:, :, 3])\n",
    "\n",
    "mask.shape, count.shape\n",
    "print(mask)"
   ]
  },
  {
   "cell_type": "code",
   "execution_count": 186,
   "metadata": {},
   "outputs": [
    {
     "data": {
      "text/plain": [
       "(torch.Size([5, 2, 3]),\n",
       " torch.Size([5, 3]),\n",
       " torch.Size([2, 3]),\n",
       " torch.Size([5, 2, 3]),\n",
       " torch.Size([5, 3, 2]))"
      ]
     },
     "execution_count": 186,
     "metadata": {},
     "output_type": "execute_result"
    }
   ],
   "source": [
    "mw = mask * w.unsqueeze(0)\n",
    "mwT = torch.transpose(mw, 1, 2)\n",
    "\n",
    "mask.shape, preact.shape, w.shape, mw.shape, mwT.shape"
   ]
  },
  {
   "cell_type": "code",
   "execution_count": 187,
   "metadata": {},
   "outputs": [
    {
     "data": {
      "text/plain": [
       "(torch.Size([5, 1, 3]), torch.Size([5, 3, 2]))"
      ]
     },
     "execution_count": 187,
     "metadata": {},
     "output_type": "execute_result"
    }
   ],
   "source": [
    "preact.unsqueeze(1).shape, mwT.shape"
   ]
  },
  {
   "cell_type": "code",
   "execution_count": 193,
   "metadata": {},
   "outputs": [
    {
     "name": "stdout",
     "output_type": "stream",
     "text": [
      "torch.Size([5, 3]) torch.Size([5, 3, 2]) torch.Size([5, 1, 2])\n",
      "tensor([[[0.0000, 0.0000]],\n",
      "\n",
      "        [[0.0000, 0.0000]],\n",
      "\n",
      "        [[0.6969, 0.0000]],\n",
      "\n",
      "        [[0.6969, 0.0000]],\n",
      "\n",
      "        [[0.8502, 0.8476]]])\n"
     ]
    }
   ],
   "source": [
    "out = preact.unsqueeze(1) @ mwT\n",
    "\n",
    "print(preact.shape, mwT.shape, out.shape)\n",
    "print(out)"
   ]
  },
  {
   "cell_type": "code",
   "execution_count": 191,
   "metadata": {},
   "outputs": [
    {
     "data": {
      "text/plain": [
       "(tensor([[0.0000, 0.0000],\n",
       "         [0.0000, 0.0000],\n",
       "         [0.6969, 0.0000],\n",
       "         [0.6969, 0.0000],\n",
       "         [0.8502, 0.8476]]),\n",
       " torch.Size([5, 2]))"
      ]
     },
     "execution_count": 191,
     "metadata": {},
     "output_type": "execute_result"
    }
   ],
   "source": [
    "out_test = []\n",
    "for p, m in zip(preact, mask):\n",
    "    # print(p)\n",
    "    # print(m)\n",
    "    mw = m * w\n",
    "    # print(mw)\n",
    "\n",
    "    u = p @ (mw.T)\n",
    "    out_test.append(u)\n",
    "    # print(u)\n",
    "    # print()\n",
    "out_test = torch.stack(out_test)\n",
    "out_test, out_test.shape"
   ]
  },
  {
   "cell_type": "code",
   "execution_count": null,
   "metadata": {},
   "outputs": [],
   "source": []
  }
 ],
 "metadata": {
  "kernelspec": {
   "display_name": "sg",
   "language": "python",
   "name": "python3"
  },
  "language_info": {
   "codemirror_mode": {
    "name": "ipython",
    "version": 3
   },
   "file_extension": ".py",
   "mimetype": "text/x-python",
   "name": "python",
   "nbconvert_exporter": "python",
   "pygments_lexer": "ipython3",
   "version": "3.10.11"
  }
 },
 "nbformat": 4,
 "nbformat_minor": 2
}
