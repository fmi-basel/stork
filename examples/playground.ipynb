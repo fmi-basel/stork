{
 "cells": [
  {
   "cell_type": "code",
   "execution_count": 10,
   "metadata": {},
   "outputs": [],
   "source": [
    "import torch\n",
    "import torch.nn.functional as F\n",
    "import numpy as np\n",
    "\n",
    "import matplotlib.pyplot as plt"
   ]
  },
  {
   "cell_type": "code",
   "execution_count": 88,
   "metadata": {},
   "outputs": [
    {
     "data": {
      "text/plain": [
       "<torch._C.Generator at 0x7f2aec31f150>"
      ]
     },
     "execution_count": 88,
     "metadata": {},
     "output_type": "execute_result"
    }
   ],
   "source": [
    "torch.random.manual_seed(1325123)"
   ]
  },
  {
   "cell_type": "code",
   "execution_count": 89,
   "metadata": {},
   "outputs": [],
   "source": [
    "src = 3\n",
    "dst = 2\n",
    "time_step = 1e-3\n",
    "\n",
    "batch_size = 10"
   ]
  },
  {
   "cell_type": "code",
   "execution_count": 90,
   "metadata": {},
   "outputs": [
    {
     "data": {
      "text/plain": [
       "tensor([[0.0000, 0.0049, 0.0003],\n",
       "        [0.0000, 0.0034, 0.0016]], grad_fn=<CopySlices>)"
      ]
     },
     "execution_count": 90,
     "metadata": {},
     "output_type": "execute_result"
    }
   ],
   "source": [
    "delays = torch.rand(dst, src, requires_grad=True)\n",
    "delays = delays / 200\n",
    "delays[0, 0] = 0\n",
    "delays[1, 0] = 0\n",
    "delays"
   ]
  },
  {
   "cell_type": "code",
   "execution_count": 91,
   "metadata": {},
   "outputs": [],
   "source": [
    "w = torch.rand(dst, src)\n",
    "bias = torch.rand(dst)"
   ]
  },
  {
   "cell_type": "code",
   "execution_count": 92,
   "metadata": {},
   "outputs": [
    {
     "data": {
      "text/plain": [
       "(tensor([[0., 0., 0.],\n",
       "         [0., 0., 1.],\n",
       "         [1., 0., 1.],\n",
       "         [1., 1., 1.],\n",
       "         [1., 1., 0.],\n",
       "         [0., 1., 1.],\n",
       "         [1., 0., 1.],\n",
       "         [0., 0., 1.],\n",
       "         [1., 0., 0.],\n",
       "         [0., 0., 0.]]),\n",
       " torch.Size([10, 3]))"
      ]
     },
     "execution_count": 92,
     "metadata": {},
     "output_type": "execute_result"
    }
   ],
   "source": [
    "preact = (torch.rand(batch_size, src) > 0.5).float()\n",
    "preact, preact.shape"
   ]
  },
  {
   "cell_type": "code",
   "execution_count": 93,
   "metadata": {},
   "outputs": [
    {
     "data": {
      "text/plain": [
       "tensor([[0, 4, 0],\n",
       "        [0, 3, 1]])"
      ]
     },
     "execution_count": 93,
     "metadata": {},
     "output_type": "execute_result"
    }
   ],
   "source": [
    "int_delays = (delays / time_step).long()\n",
    "int_delays"
   ]
  },
  {
   "cell_type": "code",
   "execution_count": 94,
   "metadata": {},
   "outputs": [
    {
     "data": {
      "text/plain": [
       "(tensor([[[[1, 0, 0, 0, 0],\n",
       "           [0, 0, 0, 0, 1],\n",
       "           [1, 0, 0, 0, 0]],\n",
       " \n",
       "          [[1, 0, 0, 0, 0],\n",
       "           [0, 0, 0, 1, 0],\n",
       "           [0, 1, 0, 0, 0]]]]),\n",
       " torch.Size([1, 2, 3, 5]))"
      ]
     },
     "execution_count": 94,
     "metadata": {},
     "output_type": "execute_result"
    }
   ],
   "source": [
    "binary_delays = F.one_hot(int_delays).unsqueeze(0)\n",
    "binary_delays, binary_delays.shape"
   ]
  },
  {
   "cell_type": "code",
   "execution_count": 95,
   "metadata": {},
   "outputs": [
    {
     "data": {
      "text/plain": [
       "torch.Size([10, 2, 3, 5])"
      ]
     },
     "execution_count": 95,
     "metadata": {},
     "output_type": "execute_result"
    }
   ],
   "source": [
    "count = preact.unsqueeze(1).unsqueeze(-1) * binary_delays\n",
    "count.shape"
   ]
  },
  {
   "cell_type": "code",
   "execution_count": 96,
   "metadata": {},
   "outputs": [
    {
     "name": "stdout",
     "output_type": "stream",
     "text": [
      "torch.Size([10, 2, 3]) torch.Size([10, 2, 3, 5])\n"
     ]
    },
    {
     "data": {
      "text/plain": [
       "tensor([[[0., 0., 0.],\n",
       "         [0., 0., 0.]],\n",
       "\n",
       "        [[0., 0., 1.],\n",
       "         [0., 0., 0.]],\n",
       "\n",
       "        [[1., 0., 1.],\n",
       "         [1., 0., 0.]],\n",
       "\n",
       "        [[1., 0., 1.],\n",
       "         [1., 0., 0.]],\n",
       "\n",
       "        [[1., 0., 0.],\n",
       "         [1., 0., 0.]],\n",
       "\n",
       "        [[0., 0., 1.],\n",
       "         [0., 0., 0.]],\n",
       "\n",
       "        [[1., 0., 1.],\n",
       "         [1., 0., 0.]],\n",
       "\n",
       "        [[0., 0., 1.],\n",
       "         [0., 0., 0.]],\n",
       "\n",
       "        [[1., 0., 0.],\n",
       "         [1., 0., 0.]],\n",
       "\n",
       "        [[0., 0., 0.],\n",
       "         [0., 0., 0.]]])"
      ]
     },
     "execution_count": 96,
     "metadata": {},
     "output_type": "execute_result"
    }
   ],
   "source": [
    "mask = count[..., 0].clone()\n",
    "count[..., 0] = 0\n",
    "# print(count)\n",
    "# print()\n",
    "# print(count[:, :, 0])\n",
    "# print(count[:, :, 1])\n",
    "# print(count[:, :, 2])\n",
    "# print(count[:, :, 3])\n",
    "# print()\n",
    "\n",
    "count = torch.roll(count, -1, -1)\n",
    "# print(count[:, :, 0])\n",
    "# print(count[:, :, 1])\n",
    "# print(count[:, :, 2])\n",
    "# print(count[:, :, 3])\n",
    "\n",
    "print(mask.shape, count.shape)\n",
    "mask"
   ]
  },
  {
   "cell_type": "code",
   "execution_count": 97,
   "metadata": {},
   "outputs": [
    {
     "data": {
      "text/plain": [
       "(torch.Size([10, 2, 3]),\n",
       " torch.Size([10, 3]),\n",
       " torch.Size([2, 3]),\n",
       " torch.Size([10, 2, 3]),\n",
       " torch.Size([10, 3, 2]))"
      ]
     },
     "execution_count": 97,
     "metadata": {},
     "output_type": "execute_result"
    }
   ],
   "source": [
    "mw = mask * w.unsqueeze(0)\n",
    "mwT = torch.transpose(mw, 1, 2)\n",
    "\n",
    "mask.shape, preact.shape, w.shape, mw.shape, mwT.shape"
   ]
  },
  {
   "cell_type": "code",
   "execution_count": 98,
   "metadata": {},
   "outputs": [
    {
     "data": {
      "text/plain": [
       "torch.Size([10, 2])"
      ]
     },
     "execution_count": 98,
     "metadata": {},
     "output_type": "execute_result"
    }
   ],
   "source": [
    "masked_linear = torch.vmap(F.linear, in_dims=(0, 0, None))\n",
    "masked_linear(preact, mw, None).shape"
   ]
  },
  {
   "cell_type": "code",
   "execution_count": 99,
   "metadata": {},
   "outputs": [
    {
     "name": "stdout",
     "output_type": "stream",
     "text": [
      "torch.Size([10, 3]) torch.Size([10, 3, 2]) torch.Size([10, 1, 2])\n",
      "tensor([[[0.0000, 0.0000]],\n",
      "\n",
      "        [[0.6969, 0.0000]],\n",
      "\n",
      "        [[0.8502, 0.8476]],\n",
      "\n",
      "        [[0.8502, 0.8476]],\n",
      "\n",
      "        [[0.1533, 0.8476]],\n",
      "\n",
      "        [[0.6969, 0.0000]],\n",
      "\n",
      "        [[0.8502, 0.8476]],\n",
      "\n",
      "        [[0.6969, 0.0000]],\n",
      "\n",
      "        [[0.1533, 0.8476]],\n",
      "\n",
      "        [[0.0000, 0.0000]]])\n"
     ]
    }
   ],
   "source": [
    "out = preact.unsqueeze(1) @ mwT\n",
    "\n",
    "print(preact.shape, mwT.shape, out.shape)\n",
    "print(out)"
   ]
  },
  {
   "cell_type": "code",
   "execution_count": 100,
   "metadata": {},
   "outputs": [
    {
     "data": {
      "text/plain": [
       "(tensor([[0.0000, 0.0000],\n",
       "         [0.6969, 0.0000],\n",
       "         [0.8502, 0.8476],\n",
       "         [0.8502, 0.8476],\n",
       "         [0.1533, 0.8476],\n",
       "         [0.6969, 0.0000],\n",
       "         [0.8502, 0.8476],\n",
       "         [0.6969, 0.0000],\n",
       "         [0.1533, 0.8476],\n",
       "         [0.0000, 0.0000]]),\n",
       " torch.Size([10, 2]))"
      ]
     },
     "execution_count": 100,
     "metadata": {},
     "output_type": "execute_result"
    }
   ],
   "source": [
    "out_test = []\n",
    "for p, m in zip(preact, mask):\n",
    "    # print(p)\n",
    "    # print(m)\n",
    "    mw = m * w\n",
    "    # print(mw)\n",
    "\n",
    "    u = p @ (mw.T)\n",
    "    out_test.append(u)\n",
    "    # print(u)\n",
    "    # print()\n",
    "out_test = torch.stack(out_test)\n",
    "out_test, out_test.shape"
   ]
  },
  {
   "cell_type": "markdown",
   "metadata": {},
   "source": [
    "# Time-Domain Response of Lock-in Filters"
   ]
  },
  {
   "cell_type": "code",
   "execution_count": 88,
   "metadata": {},
   "outputs": [],
   "source": [
    "tau_c = 30e-3"
   ]
  },
  {
   "cell_type": "code",
   "execution_count": 89,
   "metadata": {},
   "outputs": [],
   "source": [
    "def h(t, tau_c):\n",
    "    return 1/tau_c * np.exp(-t / tau_c)* (t > 0).astype(float)\n",
    "\n",
    "def hn(t, n, tau_c):\n",
    "    scale = (1/tau_c*t)**(n-1)/ np.math.factorial(n-1) \n",
    "    return scale * h(t, tau_c)"
   ]
  },
  {
   "cell_type": "code",
   "execution_count": 90,
   "metadata": {},
   "outputs": [],
   "source": [
    "t= np.linspace(0, 0.2, 2000)"
   ]
  },
  {
   "cell_type": "code",
   "execution_count": 91,
   "metadata": {},
   "outputs": [
    {
     "data": {
      "text/plain": [
       "[<matplotlib.lines.Line2D at 0x7f1c360e5a50>]"
      ]
     },
     "execution_count": 91,
     "metadata": {},
     "output_type": "execute_result"
    },
    {
     "data": {
      "image/png": "[encoded data removed]",
      "text/plain": [
       "<Figure size 640x480 with 1 Axes>"
      ]
     },
     "metadata": {},
     "output_type": "display_data"
    }
   ],
   "source": [
    "plt.plot(t, h(t, tau_c))"
   ]
  },
  {
   "cell_type": "code",
   "execution_count": 95,
   "metadata": {},
   "outputs": [
    {
     "data": {
      "image/png": "[encoded data removed]",
      "text/plain": [
       "<Figure size 640x480 with 1 Axes>"
      ]
     },
     "metadata": {},
     "output_type": "display_data"
    }
   ],
   "source": [
    "for n in range(1, 6):\n",
    "    plt.plot(t, hn(t, n, tau_c))"
   ]
  },
  {
   "cell_type": "code",
   "execution_count": null,
   "metadata": {},
   "outputs": [],
   "source": []
  },
  {
   "cell_type": "code",
   "execution_count": 101,
   "metadata": {},
   "outputs": [
    {
     "name": "stderr",
     "output_type": "stream",
     "text": [
      "/tmp/ipykernel_2027494/3770062022.py:1: UserWarning: The .grad attribute of a Tensor that is not a leaf Tensor is being accessed. Its .grad attribute won't be populated during autograd.backward(). If you indeed want the .grad field to be populated for a non-leaf Tensor, use .retain_grad() on the non-leaf Tensor. If you access the non-leaf Tensor by mistake, make sure you access the leaf Tensor instead. See github.com/pytorch/pytorch/pull/30531 for more informations. (Triggered internally at aten/src/ATen/core/TensorBody.h:489.)\n",
      "  delays.grad\n"
     ]
    }
   ],
   "source": [
    "delays.grad"
   ]
  },
  {
   "cell_type": "code",
   "execution_count": null,
   "metadata": {},
   "outputs": [],
   "source": []
  }
 ],
 "metadata": {
  "kernelspec": {
   "display_name": "sg",
   "language": "python",
   "name": "python3"
  },
  "language_info": {
   "codemirror_mode": {
    "name": "ipython",
    "version": 3
   },
   "file_extension": ".py",
   "mimetype": "text/x-python",
   "name": "python",
   "nbconvert_exporter": "python",
   "pygments_lexer": "ipython3",
   "version": "3.10.11"
  }
 },
 "nbformat": 4,
 "nbformat_minor": 2
}
