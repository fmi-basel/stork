{
 "cells": [
  {
   "attachments": {},
   "cell_type": "markdown",
   "metadata": {},
   "source": [
    "# Train a deep Convolutional SNN on the DVS-Gestures dataset"
   ]
  },
  {
   "cell_type": "code",
   "execution_count": 1,
   "metadata": {},
   "outputs": [],
   "source": [
    "# First, imports\n",
    "import os\n",
    "import sys\n",
    "\n",
    "sys.path.append(\"../../\")\n",
    "import gc\n",
    "\n",
    "import numpy as np\n",
    "import torch\n",
    "\n",
    "import matplotlib.pyplot as plt\n",
    "import seaborn as sns\n",
    "\n",
    "import stork.datasets\n",
    "from stork.datasets import HDF5Dataset, DatasetView\n",
    "\n",
    "from stork.models import RecurrentSpikingModel\n",
    "from stork.nodes import InputGroup, ReadoutGroup, LIFGroup, MaxPool2d\n",
    "from stork.connections import Connection, Conv2dConnection\n",
    "from stork.generators import StandardGenerator\n",
    "from stork.initializers import (\n",
    "    FluctuationDrivenCenteredNormalInitializer,\n",
    "    DistInitializer,\n",
    ")\n",
    "from stork.layers import ConvLayer\n",
    "\n",
    "import tonic"
   ]
  },
  {
   "attachments": {},
   "cell_type": "markdown",
   "metadata": {},
   "source": [
    "## Load dataset\n",
    "\n",
    "If necessary, adjust the path to the dataset. We use the `tonic` library to access the DVS-Gestures dataset. If not already there, the dataset will be downloaded and extracted to the specified path."
   ]
  },
  {
   "cell_type": "code",
   "execution_count": 2,
   "metadata": {},
   "outputs": [],
   "source": [
    "datadir = \"./data/datasets\""
   ]
  },
  {
   "cell_type": "code",
   "execution_count": 3,
   "metadata": {},
   "outputs": [],
   "source": [
    "# DATASET PARAMETERS\n",
    "\n",
    "target_size = 32  # downscale to 32x32\n",
    "input_size = [2, target_size, target_size]\n",
    "nb_classes = 11\n",
    "duration = 1.0  # 1 second\n",
    "time_step = dt = 2e-3\n",
    "nb_time_steps = int(duration / time_step)\n",
    "dropevent_p = 0.5\n",
    "bool_spiketrain = False  # Whether to call a boolean operation on the spiketrain\n",
    "# (Prevents spikes with an amplitude >1)\n",
    "\n",
    "# Transforms\n",
    "\n",
    "# Drop random events\n",
    "tf_dropevent = tonic.transforms.DropEvent(p=dropevent_p)\n",
    "\n",
    "# Convert to milliseconds\n",
    "tf_convert_to_ms = tonic.transforms.Downsample(\n",
    "    time_factor=1e-3, spatial_factor=target_size / 128\n",
    ")\n",
    "\n",
    "# Assemble frames according to timestep\n",
    "tf_frame = tonic.transforms.ToFrame(\n",
    "    sensor_size=(target_size, target_size, 2), time_window=time_step * 1000\n",
    ")\n",
    "\n",
    "# CUSTOM TRANSFORMS\n",
    "\n",
    "\n",
    "class ToTensorTransform:\n",
    "    \"\"\"Custom ToTensor transform that supports 4D arrays\"\"\"\n",
    "\n",
    "    def __init__(self, bool_spiketrain=False):\n",
    "        self.bool_spiketrain = bool_spiketrain\n",
    "\n",
    "    def __call__(self, x):\n",
    "        if self.bool_spiketrain:\n",
    "            return torch.as_tensor(x).bool().float()\n",
    "        else:\n",
    "            return torch.as_tensor(x).float()\n",
    "\n",
    "\n",
    "tf_tensor = ToTensorTransform(bool_spiketrain)\n",
    "\n",
    "\n",
    "class TimeCropTransform:\n",
    "    \"\"\"Custom transform that randomly crops the time dimension\"\"\"\n",
    "\n",
    "    def __init__(self, timesteps):\n",
    "        self.timesteps = int(timesteps)\n",
    "\n",
    "    def __call__(self, x):\n",
    "        start = np.random.randint(0, high=x.shape[0] - self.timesteps)\n",
    "        return x[start : start + self.timesteps, :, :, :]\n",
    "\n",
    "\n",
    "tf_timecrop = TimeCropTransform(nb_time_steps)\n",
    "\n",
    "all_transforms = tonic.transforms.Compose(\n",
    "    [tf_dropevent, tf_convert_to_ms, tf_frame, tf_tensor, tf_timecrop]\n",
    ")\n",
    "\n",
    "train_dataset = tonic.datasets.DVSGesture(datadir, train=True, transform=all_transforms)\n",
    "\n",
    "test_dataset = tonic.datasets.DVSGesture(datadir, train=False, transform=all_transforms)"
   ]
  },
  {
   "attachments": {},
   "cell_type": "markdown",
   "metadata": {},
   "source": [
    "## Set up the model"
   ]
  },
  {
   "cell_type": "code",
   "execution_count": 4,
   "metadata": {},
   "outputs": [],
   "source": [
    "# Model Parameters\n",
    "# # # # # # # # # # #\n",
    "\n",
    "beta = 20\n",
    "nb_conv_blocks = 2  # Each block features two conv layers\n",
    "# followed by a max pooling layer\n",
    "nb_filters = [16, 32]  # Number of features per layer\n",
    "kernel_size = 3  # Convolutional operation parameters\n",
    "stride = 1\n",
    "padding = 2\n",
    "\n",
    "maxpool_kernel_size = 2  # Max pooling operation parameters\n",
    "dropout_p = 0.0  # Dropout probability\n",
    "\n",
    "# Neuron Parameters\n",
    "# # # # # # # # # # #\n",
    "\n",
    "neuron_group = LIFGroup\n",
    "tau_mem = 20e-3\n",
    "tau_syn = 10e-3\n",
    "tau_readout = duration\n",
    "\n",
    "# Training parameters\n",
    "# # # # # # # # # # #\n",
    "\n",
    "batch_size = 16\n",
    "device = torch.device(\"cuda\")\n",
    "dtype = torch.float\n",
    "lr = 5e-3\n",
    "nb_epochs = 20"
   ]
  },
  {
   "attachments": {},
   "cell_type": "markdown",
   "metadata": {},
   "source": [
    "#### SuperSpike / Loss function"
   ]
  },
  {
   "cell_type": "code",
   "execution_count": 5,
   "metadata": {},
   "outputs": [],
   "source": [
    "act_fn = stork.activations.SuperSpike\n",
    "act_fn.beta = beta\n",
    "\n",
    "loss_stack = stork.loss_stacks.MaxOverTimeCrossEntropy()"
   ]
  },
  {
   "attachments": {},
   "cell_type": "markdown",
   "metadata": {},
   "source": [
    "#### Optimizer"
   ]
  },
  {
   "cell_type": "code",
   "execution_count": 6,
   "metadata": {},
   "outputs": [],
   "source": [
    "opt = stork.optimizers.SMORMS3\n",
    "generator = StandardGenerator(nb_workers=4)"
   ]
  },
  {
   "attachments": {},
   "cell_type": "markdown",
   "metadata": {},
   "source": [
    "#### Regularizer"
   ]
  },
  {
   "cell_type": "code",
   "execution_count": 7,
   "metadata": {},
   "outputs": [],
   "source": [
    "# Define regularizer parameters (set regularizer strenght to 0 if you don't want to use them)\n",
    "upperBoundL2Strength = 0.01\n",
    "upperBoundL2Threshold = 10\n",
    "\n",
    "# Define regularizer list\n",
    "regs = []\n",
    "\n",
    "regUB = stork.regularizers.UpperBoundL2(\n",
    "    upperBoundL2Strength, threshold=upperBoundL2Threshold, dims=[-2, -1]\n",
    ")\n",
    "regs.append(regUB)"
   ]
  },
  {
   "cell_type": "code",
   "execution_count": 8,
   "metadata": {},
   "outputs": [],
   "source": [
    "sigma_u = 1.0\n",
    "nu = 9.2\n",
    "\n",
    "initializer = FluctuationDrivenCenteredNormalInitializer(\n",
    "    sigma_u=sigma_u,\n",
    "    nu=nu,\n",
    "    timestep=dt,\n",
    ")\n",
    "\n",
    "readout_initializer = DistInitializer(\n",
    "    dist=torch.distributions.Normal(0, 1), scaling=\"1/sqrt(k)\"\n",
    ")"
   ]
  },
  {
   "attachments": {},
   "cell_type": "markdown",
   "metadata": {},
   "source": [
    "#### Assemble the model"
   ]
  },
  {
   "cell_type": "code",
   "execution_count": 9,
   "metadata": {},
   "outputs": [],
   "source": [
    "model = RecurrentSpikingModel(batch_size, nb_time_steps, input_size, device, dtype)\n",
    "# INPUT LAYER\n",
    "# # # # # # # # # # # # # # #\n",
    "input_group = model.add_group(InputGroup(input_size))\n",
    "\n",
    "# Set input group as upstream of first hidden layer\n",
    "upstream_group = input_group\n",
    "\n",
    "# HIDDEN LAYERS\n",
    "# # # # # # # # # # # # # # #\n",
    "neuron_kwargs = {\"tau_mem\": 20e-3, \"tau_syn\": 10e-3, \"activation\": act_fn}\n",
    "\n",
    "for block_idx in range(nb_conv_blocks):\n",
    "    # Generate Layer name and config\n",
    "    block_name = str(\"Block\") + \" \" + str(block_idx + 1)\n",
    "\n",
    "    # Make conv layers\n",
    "    for conv_idx in range(2):\n",
    "        conv = ConvLayer(\n",
    "            name=block_name + \" Conv\" + str(conv_idx + 1),\n",
    "            model=model,\n",
    "            input_group=upstream_group,\n",
    "            kernel_size=kernel_size,\n",
    "            stride=stride,\n",
    "            padding=padding,\n",
    "            nb_filters=nb_filters[block_idx],\n",
    "            recurrent=False,\n",
    "            neuron_class=neuron_group,\n",
    "            neuron_kwargs=neuron_kwargs,\n",
    "            regs=regs,\n",
    "            connection_class=Conv2dConnection,\n",
    "        )\n",
    "\n",
    "        # Initialize Parameters\n",
    "        initializer.initialize(conv)\n",
    "\n",
    "        # Set output as input to next layer\n",
    "        upstream_group = conv.output_group\n",
    "\n",
    "    # Make maxpool layer\n",
    "    maxpool = model.add_group(\n",
    "        MaxPool2d(upstream_group, kernel_size=maxpool_kernel_size, dropout_p=dropout_p)\n",
    "    )\n",
    "\n",
    "    upstream_group = maxpool\n",
    "\n",
    "\n",
    "# READOUT LAYER\n",
    "# # # # # # # # # # # # # # #\n",
    "readout_group = model.add_group(\n",
    "    ReadoutGroup(\n",
    "        nb_classes,\n",
    "        tau_mem=tau_readout,\n",
    "        tau_syn=neuron_kwargs[\"tau_syn\"],\n",
    "        initial_state=-1e-3,\n",
    "    )\n",
    ")\n",
    "\n",
    "readout_connection = model.add_connection(\n",
    "    Connection(upstream_group, readout_group, flatten_input=True)\n",
    ")\n",
    "\n",
    "# Initialize readout connection\n",
    "readout_initializer.initialize(readout_connection)"
   ]
  },
  {
   "attachments": {},
   "cell_type": "markdown",
   "metadata": {},
   "source": [
    "#### Configure model for training"
   ]
  },
  {
   "cell_type": "code",
   "execution_count": 10,
   "metadata": {},
   "outputs": [],
   "source": [
    "model.configure(\n",
    "    input=input_group,\n",
    "    output=readout_group,\n",
    "    loss_stack=loss_stack,\n",
    "    generator=generator,\n",
    "    optimizer=opt,\n",
    "    optimizer_kwargs=dict(lr=lr),\n",
    "    time_step=dt,\n",
    ")"
   ]
  },
  {
   "attachments": {},
   "cell_type": "markdown",
   "metadata": {},
   "source": [
    "## Training"
   ]
  },
  {
   "cell_type": "code",
   "execution_count": 11,
   "metadata": {},
   "outputs": [
    {
     "name": "stdout",
     "output_type": "stream",
     "text": [
      "00  loss=2.5 reg_loss=0.684 acc=0.165 t_iter=73.86\n",
      "01  loss=2.15 reg_loss=0.0379 acc=0.212 t_iter=71.56\n",
      "02  loss=2.04 reg_loss=0.00375 acc=0.257 t_iter=72.89\n",
      "03  loss=1.91 reg_loss=0.000695 acc=0.297 t_iter=72.15\n",
      "04  loss=1.87 reg_loss=0.000555 acc=0.298 t_iter=71.32\n",
      "05  loss=1.88 reg_loss=0.00034 acc=0.326 t_iter=73.01\n",
      "06  loss=1.83 reg_loss=0.000304 acc=0.345 t_iter=73.34\n",
      "07  loss=1.74 reg_loss=9.07e-05 acc=0.381 t_iter=72.71\n",
      "08  loss=1.62 reg_loss=0.000142 acc=0.441 t_iter=71.47\n",
      "09  loss=1.27 reg_loss=0.000141 acc=0.557 t_iter=72.18\n",
      "10  loss=1.02 reg_loss=0.000105 acc=0.651 t_iter=71.71\n",
      "11  loss=0.929 reg_loss=0.000335 acc=0.665 t_iter=72.02\n",
      "12  loss=0.81 reg_loss=0.000224 acc=0.723 t_iter=72.37\n",
      "13  loss=0.61 reg_loss=0.000264 acc=0.806 t_iter=73.06\n",
      "14  loss=0.354 reg_loss=0.000347 acc=0.903 t_iter=71.81\n",
      "15  loss=0.227 reg_loss=0.000315 acc=0.944 t_iter=72.07\n",
      "16  loss=0.185 reg_loss=0.000348 acc=0.951 t_iter=72.56\n",
      "17  loss=0.171 reg_loss=0.000301 acc=0.95 t_iter=72.63\n",
      "18  loss=0.155 reg_loss=0.000278 acc=0.96 t_iter=72.45\n",
      "19  loss=0.139 reg_loss=0.000308 acc=0.96 t_iter=72.82\n"
     ]
    }
   ],
   "source": [
    "results = {}\n",
    "\n",
    "history = model.fit(train_dataset, nb_epochs=nb_epochs, verbose=True)\n",
    "\n",
    "results[\"train_loss\"] = history[\"loss\"].tolist()\n",
    "results[\"train_acc\"] = history[\"acc\"].tolist()"
   ]
  },
  {
   "attachments": {},
   "cell_type": "markdown",
   "metadata": {},
   "source": [
    "## Test"
   ]
  },
  {
   "cell_type": "code",
   "execution_count": 44,
   "metadata": {},
   "outputs": [],
   "source": [
    "# Free up some GPU space and clear cache\n",
    "# This might not be necessary for you if your GPU has enough memory\n",
    "del history\n",
    "gc.collect()\n",
    "torch.cuda.empty_cache()"
   ]
  },
  {
   "cell_type": "code",
   "execution_count": 45,
   "metadata": {},
   "outputs": [],
   "source": [
    "# Change batch size to 4 for testing\n",
    "# Again, just for memory reasons\n",
    "\n",
    "model.batch_size = 4\n",
    "model.data_generator_.configure(\n",
    "    model.batch_size,\n",
    "    model.nb_time_steps,\n",
    "    model.nb_inputs,\n",
    "    model.time_step,\n",
    "    device=model.device,\n",
    "    dtype=model.dtype,\n",
    ")"
   ]
  },
  {
   "cell_type": "code",
   "execution_count": 46,
   "metadata": {},
   "outputs": [],
   "source": [
    "scores = model.evaluate(test_dataset).tolist()\n",
    "results[\"test_loss\"], _, results[\"test_acc\"] = scores"
   ]
  },
  {
   "cell_type": "code",
   "execution_count": 47,
   "metadata": {},
   "outputs": [
    {
     "name": "stdout",
     "output_type": "stream",
     "text": [
      "Test loss:  0.6598869568124153\n",
      "Test acc.:  0.8446969696969697\n"
     ]
    },
    {
     "data": {
      "image/png": "[encoded data removed]",
      "text/plain": [
       "<Figure size 375x450 with 2 Axes>"
      ]
     },
     "metadata": {
      "needs_background": "light"
     },
     "output_type": "display_data"
    }
   ],
   "source": [
    "fig, ax = plt.subplots(2, figsize=(2.5, 3), dpi=150)\n",
    "\n",
    "for i, n in enumerate([\"train_loss\", \"train_acc\"]):\n",
    "    a = ax[i]\n",
    "\n",
    "    a.plot(results[n], color=\"black\")\n",
    "    a.set_xlabel(\"Epochs\")\n",
    "    a.set_ylabel(n)\n",
    "\n",
    "ax[-1].set_ylim(0, 1)\n",
    "sns.despine()\n",
    "plt.tight_layout()\n",
    "\n",
    "print(\"Test loss: \", results[\"test_loss\"])\n",
    "print(\"Test acc.: \", results[\"test_acc\"])"
   ]
  },
  {
   "cell_type": "code",
   "execution_count": null,
   "metadata": {},
   "outputs": [],
   "source": []
  }
 ],
 "metadata": {
  "kernelspec": {
   "display_name": "stork-dev",
   "language": "python",
   "name": "python3"
  },
  "language_info": {
   "codemirror_mode": {
    "name": "ipython",
    "version": 3
   },
   "file_extension": ".py",
   "mimetype": "text/x-python",
   "name": "python",
   "nbconvert_exporter": "python",
   "pygments_lexer": "ipython3",
   "version": "3.8.10"
  },
  "orig_nbformat": 4
 },
 "nbformat": 4,
 "nbformat_minor": 2
}
