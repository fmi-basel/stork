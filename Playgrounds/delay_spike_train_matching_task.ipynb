{
 "cells": [
  {
   "cell_type": "markdown",
   "metadata": {},
   "source": [
    "# Train a shallow SNN on the Randman Dataset"
   ]
  },
  {
   "cell_type": "code",
   "execution_count": 1,
   "metadata": {},
   "outputs": [
    {
     "name": "stdout",
     "output_type": "stream",
     "text": [
      "using delay stork version - filter cascades\n"
     ]
    }
   ],
   "source": [
    "import sys\n",
    "\n",
    "sys.path.append(\"../\")\n",
    "\n",
    "import numpy as np\n",
    "import torch\n",
    "\n",
    "import matplotlib.pyplot as plt\n",
    "import seaborn as sns\n",
    "\n",
    "import stork.datasets\n",
    "from stork.models import RecurrentSpikingModel\n",
    "from stork.nodes import InputGroup, ReadoutGroup, LIFGroup, DelayGroup\n",
    "from stork.connections import Connection\n",
    "from stork.generators import StandardGenerator\n",
    "from stork.initializers import FluctuationDrivenCenteredNormalInitializer\n",
    "\n",
    "import scipy.signal as signal"
   ]
  },
  {
   "cell_type": "markdown",
   "metadata": {},
   "source": [
    "## Generate Dataset"
   ]
  },
  {
   "cell_type": "markdown",
   "metadata": {},
   "source": [
    "Specify the Dataset Parameters"
   ]
  },
  {
   "cell_type": "code",
   "execution_count": 2,
   "metadata": {},
   "outputs": [],
   "source": [
    "torch.manual_seed(12)\n",
    "np.random.seed(12)\n",
    "\n",
    "\n",
    "nb_inputs = 1\n",
    "nb_time_steps = 50\n",
    "nb_spikes = 1\n",
    "nb_outputs = 1\n",
    "dt = 2e-3\n",
    "\n",
    "duration = nb_time_steps * dt"
   ]
  },
  {
   "cell_type": "code",
   "execution_count": 3,
   "metadata": {},
   "outputs": [],
   "source": [
    "data = [(torch.tensor([10]), torch.tensor([0]))] * 10\n",
    "labels = [(torch.tensor([30]), torch.tensor([0]))] * 10\n",
    "# labels = [(torch.tensor([]), torch.tensor([]))]*10"
   ]
  },
  {
   "cell_type": "code",
   "execution_count": 4,
   "metadata": {},
   "outputs": [
    {
     "name": "stdout",
     "output_type": "stream",
     "text": [
      "1 1 8\n"
     ]
    }
   ],
   "source": [
    "ds_kwargs = dict(\n",
    "    nb_steps=nb_time_steps, nb_units=nb_inputs, time_scale=1.0, target_units=nb_outputs\n",
    ")\n",
    "\n",
    "# Split into train, test and validation set\n",
    "datasets = [\n",
    "    stork.datasets.RasRasDataset(ds, **ds_kwargs)\n",
    "    for ds in stork.datasets.split_dataset(\n",
    "        data, labels, splits=[0.1, 0.1, 0.8], shuffle=False\n",
    "    )\n",
    "]\n",
    "ds_train, ds_valid, ds_test = datasets\n",
    "\n",
    "print(len(ds_train), len(ds_valid), len(ds_test))"
   ]
  },
  {
   "cell_type": "code",
   "execution_count": 5,
   "metadata": {},
   "outputs": [],
   "source": [
    "tau_mem = 20e-3\n",
    "tau_syn = 10e-3"
   ]
  },
  {
   "cell_type": "code",
   "execution_count": 6,
   "metadata": {},
   "outputs": [
    {
     "data": {
      "image/png": "[encoded data removed]",
      "text/plain": [
       "<Figure size 1500x225 with 5 Axes>"
      ]
     },
     "metadata": {},
     "output_type": "display_data"
    }
   ],
   "source": [
    "fig, ax = plt.subplots(1, 5, figsize=(10, 1.5), dpi=150)\n",
    "for i in range(5):\n",
    "    ax[i].imshow(np.transpose(ds_test[i][0]), cmap=\"binary\", aspect=\"auto\")\n",
    "    ax[i].invert_yaxis()\n",
    "    ax[i].set_xlabel(\"time step\")\n",
    "    ax[i].set_ylabel(\"Neuron Idx.\")\n",
    "    # ax[i].set_title(\"label: \" + str(ds_train[i][1]))\n",
    "\n",
    "plt.tight_layout()\n",
    "sns.despine()"
   ]
  },
  {
   "cell_type": "markdown",
   "metadata": {},
   "source": [
    "## Set up the model"
   ]
  },
  {
   "cell_type": "code",
   "execution_count": 7,
   "metadata": {},
   "outputs": [],
   "source": [
    "# Model Parameters\n",
    "batch_size = 1\n",
    "beta = 20\n",
    "device = torch.device(\"cpu\")\n",
    "dtype = torch.float\n",
    "\n",
    "\n",
    "nb_hidden_units = 1\n",
    "\n",
    "lr = 10\n",
    "nb_epochs = 20"
   ]
  },
  {
   "cell_type": "code",
   "execution_count": 8,
   "metadata": {},
   "outputs": [],
   "source": [
    "act_fn = stork.activations.CustomSpike\n",
    "\n",
    "act_fn.beta = beta\n",
    "neuron_group = LIFGroup\n",
    "\n",
    "model = RecurrentSpikingModel(batch_size, nb_time_steps, nb_inputs, device, dtype)"
   ]
  },
  {
   "cell_type": "markdown",
   "metadata": {},
   "source": [
    "Add neuron groups"
   ]
  },
  {
   "cell_type": "code",
   "execution_count": 9,
   "metadata": {},
   "outputs": [],
   "source": [
    "input_group = model.add_group(InputGroup(nb_inputs))\n",
    "hidden_neurons = model.add_group(\n",
    "    LIFGroup(nb_hidden_units, tau_mem=tau_mem, tau_syn=tau_syn, activation=act_fn)\n",
    ")\n",
    "\n",
    "readout_group = delay_neurons = model.add_group(\n",
    "    DelayGroup(\n",
    "        src=hidden_neurons,\n",
    "        max_delay_timesteps=nb_time_steps // 2,\n",
    "    )\n",
    ")"
   ]
  },
  {
   "cell_type": "markdown",
   "metadata": {},
   "source": [
    "Add synapses between the neuron groups"
   ]
  },
  {
   "cell_type": "code",
   "execution_count": 10,
   "metadata": {},
   "outputs": [],
   "source": [
    "con = model.add_connection(Connection(input_group, hidden_neurons))"
   ]
  },
  {
   "cell_type": "markdown",
   "metadata": {},
   "source": [
    "Add regularizers"
   ]
  },
  {
   "cell_type": "code",
   "execution_count": 11,
   "metadata": {},
   "outputs": [],
   "source": [
    "# Define regularizer parameters (set regularizer strenght to 0, if you don't want to use them)\n",
    "lowerBoundL2Strength = 100\n",
    "lowerBoundL2Threshold = 1e-3\n",
    "upperBoundL2Strength = 0.1\n",
    "upperBoundL2Threshold = (\n",
    "    4  # Regularizes spikecount: 4 spikes ~ 20 Hz in 200ms simulation time\n",
    ")\n",
    "\n",
    "# Define regularizer list\n",
    "regs = []\n",
    "\n",
    "regLB = stork.regularizers.LowerBoundL2(\n",
    "    lowerBoundL2Strength, threshold=lowerBoundL2Threshold, dims=False\n",
    ")\n",
    "regs.append(regLB)\n",
    "regUB = stork.regularizers.UpperBoundL2(\n",
    "    upperBoundL2Strength, threshold=upperBoundL2Threshold, dims=1\n",
    ")\n",
    "regs.append(regUB)\n",
    "\n",
    "# Add to neurons\n",
    "hidden_neurons.regularizers.extend(regs)"
   ]
  },
  {
   "cell_type": "markdown",
   "metadata": {},
   "source": [
    "We initialize the network in the Flucutation-Driven regime, with a target membrane potential standard deviation $\\sigma_U=1.0$"
   ]
  },
  {
   "cell_type": "code",
   "execution_count": 12,
   "metadata": {},
   "outputs": [
    {
     "name": "stdout",
     "output_type": "stream",
     "text": [
      "Parameter containing:\n",
      "tensor([[5.]], requires_grad=True)\n"
     ]
    }
   ],
   "source": [
    "con.op.weight = torch.nn.Parameter(torch.tensor([[5.0]]))\n",
    "print(con.op.weight)"
   ]
  },
  {
   "cell_type": "code",
   "execution_count": 13,
   "metadata": {},
   "outputs": [
    {
     "name": "stdout",
     "output_type": "stream",
     "text": [
      "Input\n",
      "LIFGroup\n",
      "DelayGroup\n"
     ]
    }
   ],
   "source": [
    "for g in model.groups:\n",
    "    print(g.name)\n",
    "    if \"Delay\" in g.name:\n",
    "        g.delays = torch.nn.Parameter(torch.tensor([0.0001]))"
   ]
  },
  {
   "cell_type": "markdown",
   "metadata": {},
   "source": [
    "Add monitors for spikes and membrane potential"
   ]
  },
  {
   "cell_type": "code",
   "execution_count": 14,
   "metadata": {},
   "outputs": [
    {
     "name": "stdout",
     "output_type": "stream",
     "text": [
      "Input\n",
      "LIFGroup\n",
      "DelayGroup\n"
     ]
    }
   ],
   "source": [
    "for g in model.groups:\n",
    "    print(g.name)"
   ]
  },
  {
   "cell_type": "code",
   "execution_count": 15,
   "metadata": {},
   "outputs": [
    {
     "data": {
      "text/plain": [
       "<stork.monitors.StateMonitor at 0x7ff7583bdc30>"
      ]
     },
     "execution_count": 15,
     "metadata": {},
     "output_type": "execute_result"
    }
   ],
   "source": [
    "model.add_monitor(stork.monitors.SpikeCountMonitor(model.groups[1]))\n",
    "model.add_monitor(stork.monitors.StateMonitor(model.groups[1], \"out\"))"
   ]
  },
  {
   "cell_type": "markdown",
   "metadata": {},
   "source": [
    "Choose loss function (We chose a maximum over time crossentropy loss, where the class is chosen according to the readout neuron that has the highest membrane potential over the simulation time)"
   ]
  },
  {
   "cell_type": "code",
   "execution_count": 16,
   "metadata": {},
   "outputs": [],
   "source": [
    "loss_stack = stork.loss_stacks.MeanSquareError()"
   ]
  },
  {
   "cell_type": "markdown",
   "metadata": {},
   "source": [
    "We select the SMORMS3 optimizer"
   ]
  },
  {
   "cell_type": "code",
   "execution_count": 17,
   "metadata": {},
   "outputs": [],
   "source": [
    "opt = stork.optimizers.SMORMS3\n",
    "generator = StandardGenerator(nb_workers=2)"
   ]
  },
  {
   "cell_type": "code",
   "execution_count": 18,
   "metadata": {},
   "outputs": [],
   "source": [
    "model.configure(\n",
    "    input=input_group,\n",
    "    output=readout_group,\n",
    "    loss_stack=loss_stack,\n",
    "    generator=generator,\n",
    "    optimizer=opt,\n",
    "    optimizer_kwargs=dict(lr=lr),\n",
    "    time_step=dt,\n",
    ")"
   ]
  },
  {
   "cell_type": "markdown",
   "metadata": {},
   "source": [
    "Before we train the model, we monitor the spikes"
   ]
  },
  {
   "cell_type": "code",
   "execution_count": 19,
   "metadata": {},
   "outputs": [
    {
     "name": "stdout",
     "output_type": "stream",
     "text": [
      "{'avg_layer_freq_init': [10.0]}\n"
     ]
    }
   ],
   "source": [
    "# Monitors spike counts before training\n",
    "res = model.monitor(ds_test)\n",
    "total_spikes = torch.sum(res[0]).item()\n",
    "\n",
    "results = {}\n",
    "res = model.monitor(ds_test)\n",
    "total_spikes_per_layer = [torch.sum(res[i]).item() for i in range(1)]\n",
    "results[\"avg_layer_freq_init\"] = [\n",
    "    nb / len(ds_test) / duration / nb_hidden_units for nb in total_spikes_per_layer\n",
    "]\n",
    "\n",
    "print(results)"
   ]
  },
  {
   "cell_type": "code",
   "execution_count": 20,
   "metadata": {},
   "outputs": [
    {
     "data": {
      "image/png": "[encoded data removed]",
      "text/plain": [
       "<Figure size 640x480 with 1 Axes>"
      ]
     },
     "metadata": {},
     "output_type": "display_data"
    }
   ],
   "source": [
    "pred = model.predict(ds_train)\n",
    "plt.plot(ds_train[0][0], color=\"k\", alpha=0.5, label=\"input\")\n",
    "plt.plot(ds_train[0][1], color=\"teal\", label=\"target\")\n",
    "plt.plot(pred[0], \"--\", color=\"k\", label=\"output\")\n",
    "plt.legend()\n",
    "plt.xlabel(\"time step\")\n",
    "plt.yticks([])\n",
    "sns.despine()\n"
   ]
  },
  {
   "cell_type": "markdown",
   "metadata": {},
   "source": [
    "## Training\n",
    "\n",
    "takes around 13-20 minutes"
   ]
  },
  {
   "cell_type": "code",
   "execution_count": 21,
   "metadata": {},
   "outputs": [
    {
     "name": "stdout",
     "output_type": "stream",
     "text": [
      "group3.delays\n",
      "con1.op.weightFalse : no grad\n"
     ]
    }
   ],
   "source": [
    "for name, param in model.named_parameters():\n",
    "    print(name, end=\"\")\n",
    "    if \"weight\" in name:\n",
    "        # do not require grad\n",
    "        param.requires_grad = False\n",
    "        print(param.requires_grad, \": no grad\")\n",
    "    else:\n",
    "        print()"
   ]
  },
  {
   "cell_type": "code",
   "execution_count": 22,
   "metadata": {},
   "outputs": [
    {
     "name": "stdout",
     "output_type": "stream",
     "text": [
      "Parameter containing:\n",
      "tensor([1.0000e-04], requires_grad=True)\n"
     ]
    }
   ],
   "source": [
    "print(delay_neurons.delays)"
   ]
  },
  {
   "cell_type": "code",
   "execution_count": 23,
   "metadata": {},
   "outputs": [
    {
     "name": "stdout",
     "output_type": "stream",
     "text": [
      "00  loss=0.04 reg_loss=0 -- val_loss=0.04 val_reg_loss=0 t_iter=0.23\n",
      "01  loss=0.04 reg_loss=0 -- val_loss=0.04 val_reg_loss=0 t_iter=0.21\n",
      "02  loss=0.04 reg_loss=0 -- val_loss=0.04 val_reg_loss=0 t_iter=0.22\n",
      "03  loss=0.04 reg_loss=0 -- val_loss=0.04 val_reg_loss=0 t_iter=0.21\n",
      "04  loss=0.04 reg_loss=0 -- val_loss=0.04 val_reg_loss=0 t_iter=0.19\n",
      "05  loss=0.04 reg_loss=0 -- val_loss=0.04 val_reg_loss=0 t_iter=0.20\n",
      "06  loss=0.04 reg_loss=0 -- val_loss=0.04 val_reg_loss=0 t_iter=0.17\n",
      "07  loss=0.04 reg_loss=0 -- val_loss=0.04 val_reg_loss=0 t_iter=0.16\n",
      "08  loss=0.04 reg_loss=0 -- val_loss=0.04 val_reg_loss=0 t_iter=0.16\n",
      "09  loss=0.04 reg_loss=0 -- val_loss=0.04 val_reg_loss=0 t_iter=0.18\n",
      "10  loss=0.04 reg_loss=0 -- val_loss=0.04 val_reg_loss=0 t_iter=0.17\n",
      "11  loss=0.04 reg_loss=0 -- val_loss=0.04 val_reg_loss=0 t_iter=0.16\n",
      "12  loss=0.04 reg_loss=0 -- val_loss=0.04 val_reg_loss=0 t_iter=0.16\n",
      "13  loss=0.04 reg_loss=0 -- val_loss=0.04 val_reg_loss=0 t_iter=0.15\n",
      "14  loss=0.04 reg_loss=0 -- val_loss=0.04 val_reg_loss=0 t_iter=0.16\n",
      "15  loss=0.04 reg_loss=0 -- val_loss=0 val_reg_loss=0 t_iter=0.14\n",
      "16  loss=0 reg_loss=0 -- val_loss=0 val_reg_loss=0 t_iter=0.15\n",
      "17  loss=0 reg_loss=0 -- val_loss=0 val_reg_loss=0 t_iter=0.18\n",
      "18  loss=0 reg_loss=0 -- val_loss=0 val_reg_loss=0 t_iter=0.17\n",
      "19  loss=0 reg_loss=0 -- val_loss=0 val_reg_loss=0 t_iter=0.17\n"
     ]
    }
   ],
   "source": [
    "history = model.fit_validate(ds_train, ds_valid, nb_epochs=nb_epochs, verbose=True)"
   ]
  },
  {
   "cell_type": "code",
   "execution_count": 24,
   "metadata": {},
   "outputs": [],
   "source": [
    "for key, val in history.items():\n",
    "    if key in results:\n",
    "        results[key] += val.tolist()\n",
    "    else:\n",
    "        results[key] = val.tolist()"
   ]
  },
  {
   "cell_type": "code",
   "execution_count": 25,
   "metadata": {},
   "outputs": [
    {
     "name": "stdout",
     "output_type": "stream",
     "text": [
      "Parameter containing:\n",
      "tensor([15.3462], requires_grad=True)\n"
     ]
    }
   ],
   "source": [
    "print(delay_neurons.delays)"
   ]
  },
  {
   "cell_type": "code",
   "execution_count": 26,
   "metadata": {},
   "outputs": [
    {
     "data": {
      "image/png": "[encoded data removed]",
      "text/plain": [
       "<Figure size 640x480 with 1 Axes>"
      ]
     },
     "metadata": {},
     "output_type": "display_data"
    }
   ],
   "source": [
    "pred = model.predict(ds_train)\n",
    "plt.plot(ds_train[0][0], color=\"k\", alpha=0.5, label=\"input\")\n",
    "plt.plot(ds_train[0][1], color=\"teal\", label=\"target\")\n",
    "plt.plot(pred[0], \"--\", color=\"k\", label=\"output\")\n",
    "plt.legend()\n",
    "plt.xlabel(\"time step\")\n",
    "plt.yticks([])\n",
    "sns.despine()\n"
   ]
  },
  {
   "cell_type": "code",
   "execution_count": 27,
   "metadata": {},
   "outputs": [
    {
     "name": "stdout",
     "output_type": "stream",
     "text": [
      "Input\n",
      "LIFGroup\n",
      "DelayGroup tensor([0.])\n"
     ]
    }
   ],
   "source": [
    "for g in model.groups:\n",
    "    try:\n",
    "        print(g.name, g.delays.grad)\n",
    "    except:\n",
    "        print(g.name)"
   ]
  },
  {
   "cell_type": "code",
   "execution_count": 28,
   "metadata": {},
   "outputs": [
    {
     "name": "stdout",
     "output_type": "stream",
     "text": [
      "Parameter containing:\n",
      "tensor([15.3462], requires_grad=True)\n"
     ]
    }
   ],
   "source": [
    "print(delay_neurons.delays)"
   ]
  },
  {
   "cell_type": "markdown",
   "metadata": {},
   "source": [
    "#### Monitor the model again after training"
   ]
  },
  {
   "cell_type": "code",
   "execution_count": 29,
   "metadata": {},
   "outputs": [],
   "source": [
    "res = model.monitor(ds_test)\n",
    "total_spikes_per_layer = [torch.sum(res[i]).item() for i in range(1)]\n",
    "results[\"avg_layer_freq\"] = [\n",
    "    nb / len(ds_test) / duration / nb_hidden_units for nb in total_spikes_per_layer\n",
    "]"
   ]
  },
  {
   "cell_type": "markdown",
   "metadata": {},
   "source": [
    "## Test"
   ]
  },
  {
   "cell_type": "code",
   "execution_count": 30,
   "metadata": {},
   "outputs": [
    {
     "name": "stdout",
     "output_type": "stream",
     "text": [
      "[0.0, 0.0]\n"
     ]
    }
   ],
   "source": [
    "scores = model.evaluate(ds_test).tolist()\n",
    "print(scores)"
   ]
  },
  {
   "cell_type": "code",
   "execution_count": 31,
   "metadata": {},
   "outputs": [],
   "source": [
    "l, a = scores\n",
    "if \"test_loss\" in results:\n",
    "    results[\"test_loss\"].append(l)\n",
    "    results[\"test_acc\"].append(a)\n",
    "else:\n",
    "    results[\"test_loss\"] = [l]\n",
    "    results[\"test_acc\"] = [a]"
   ]
  },
  {
   "cell_type": "code",
   "execution_count": 32,
   "metadata": {},
   "outputs": [
    {
     "name": "stdout",
     "output_type": "stream",
     "text": [
      "Test loss:  0.0\n",
      "Test acc.:  0.0 %\n"
     ]
    },
    {
     "data": {
      "image/png": "[encoded data removed]",
      "text/plain": [
       "<Figure size 750x450 with 4 Axes>"
      ]
     },
     "metadata": {},
     "output_type": "display_data"
    }
   ],
   "source": [
    "fig, ax = plt.subplots(2, 2, figsize=(5, 3), dpi=150)\n",
    "\n",
    "for i, n in enumerate(\n",
    "    [\n",
    "        \"loss\",\n",
    "        \"val_loss\",\n",
    "    ]\n",
    "):\n",
    "\n",
    "    if i < 2:\n",
    "        a = ax[0][i]\n",
    "    else:\n",
    "        a = ax[1][i - 2]\n",
    "\n",
    "    a.plot(results[n], color=\"black\")\n",
    "    a.set_xlabel(\"Epochs\")\n",
    "    a.set_ylabel(n)\n",
    "\n",
    "ax[0, 1].set_ylim(0, 1)\n",
    "ax[1, 1].set_ylim(0, 1)\n",
    "\n",
    "sns.despine()\n",
    "plt.tight_layout()\n",
    "\n",
    "print(\"Test loss: \", results[\"test_loss\"][-1])\n",
    "print(\"Test acc.: \", round(results[\"test_acc\"][-1] * 100, 2), \"%\")"
   ]
  },
  {
   "cell_type": "code",
   "execution_count": null,
   "metadata": {},
   "outputs": [],
   "source": []
  }
 ],
 "metadata": {
  "kernelspec": {
   "display_name": "delay",
   "language": "python",
   "name": "python3"
  },
  "language_info": {
   "codemirror_mode": {
    "name": "ipython",
    "version": 3
   },
   "file_extension": ".py",
   "mimetype": "text/x-python",
   "name": "python",
   "nbconvert_exporter": "python",
   "pygments_lexer": "ipython3",
   "version": "3.10.13"
  },
  "orig_nbformat": 4
 },
 "nbformat": 4,
 "nbformat_minor": 2
}
